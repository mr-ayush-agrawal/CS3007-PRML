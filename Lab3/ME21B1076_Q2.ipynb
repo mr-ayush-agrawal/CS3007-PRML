{
 "cells": [
  {
   "cell_type": "code",
   "execution_count": 5,
   "id": "f10d3501",
   "metadata": {},
   "outputs": [
    {
     "name": "stdout",
     "output_type": "stream",
     "text": [
      "Hours Studied & Test Score:, 1.000\n",
      "Hours Watching TV & Test Score:, -0.982\n",
      "Outdoor Activity Time & Test Score:, 1.000\n",
      "Hours Listening to Music & Test Score:, -0.200\n",
      "Water Consumed & Test Score:, -0.355\n"
     ]
    }
   ],
   "source": [
    "import numpy as np\n",
    "def calculate_correlation(data1,data2):\n",
    "    #calculate mean\n",
    "    mean_data1 = np.mean(data1)\n",
    "    mean_data2 = np.mean(data2)\n",
    "    \n",
    "    #calculate deviations from mean\n",
    "    dev_data1 = data1 - mean_data1\n",
    "    dev_data2 = data2 - mean_data2\n",
    "    \n",
    "    #calculate cross products of deviations\n",
    "    cp_data1_data2 = dev_data1 * dev_data2\n",
    "    \n",
    "    #calculate correlation coefficients\n",
    "    corr = np.sum(cp_data1_data2) / np.sqrt(np.sum(dev_data1 ** 2) * np.sum(dev_data2 ** 2))\n",
    "    \n",
    "    return corr\n",
    "\n",
    "#data \n",
    "hours_studied = np.array([2, 3, 4, 5, 6, 7])\n",
    "hours_watching_tv = np.array([4, 3, 2, 1, 0, 0])\n",
    "outdoor_activity_time = np.array([2, 4, 6, 8, 10, 12])\n",
    "hours_listening_to_music = np.array([2, 3, 4, 1, 5, 0])\n",
    "water_consumed = np.array([5, 6, 5, 6, 4, 5])\n",
    "test_scores = np.array([65, 70, 75, 80, 85, 90])\n",
    "\n",
    "#print correlation coefficents\n",
    "print(f\"Hours Studied & Test Score:, {calculate_correlation(hours_studied, test_scores):.3f}\")\n",
    "print(f\"Hours Watching TV & Test Score:, {calculate_correlation(hours_watching_tv, test_scores):.3f}\")\n",
    "print(f\"Outdoor Activity Time & Test Score:, {calculate_correlation(outdoor_activity_time, test_scores):.3f}\")\n",
    "print(f\"Hours Listening to Music & Test Score:, {calculate_correlation(hours_listening_to_music, test_scores):.3f}\")\n",
    "print(f\"Water Consumed & Test Score:, {calculate_correlation(water_consumed, test_scores):.3f}\")"
   ]
  },
  {
   "cell_type": "markdown",
   "id": "581d0b64",
   "metadata": {},
   "source": [
    "1. Positive Correlation - Hours Studied & Test Score: 1.0 & Outdoor Activity Time & Test Score: 1.0\n",
    "    Negative Correlation - Hours Watching TV & Test Score:, -0.982 , Hours Listening to Music & Test Score: -0.2 & Water Consumed & Test Score:, -0.355\n",
    "    \n",
    "    No significant correlation - Hours Listening to Music & Test Score: -0.2 & Water Consumed & Test Score: -0.355\n",
    "    \n",
    "    "
   ]
  },
  {
   "cell_type": "markdown",
   "id": "647f0777",
   "metadata": {},
   "source": [
    "2. Hours studied has a high positive correlation with test score because for every one hour increase in studying , test scores get increased by 5 marks. \n",
    "This information could help student to target how much they should study to target for a specific test score"
   ]
  },
  {
   "cell_type": "markdown",
   "id": "27c33ea2",
   "metadata": {},
   "source": [
    "3. Hours watching TV has a very high negative correlation with test scores (~0.98).\n",
    "It means that those who are watching TV a lot has a negative impact on their academics so they cannot manage time properly between leisure and studying"
   ]
  },
  {
   "cell_type": "markdown",
   "id": "a9107371",
   "metadata": {},
   "source": [
    "4. Hours listening to music has to significant impact on test scores due to very low negative correlation. \n",
    "Still one could say that listening to music a lot could negatively impact test scores\n"
   ]
  },
  {
   "cell_type": "markdown",
   "id": "41a85f29",
   "metadata": {},
   "source": [
    "5. Water consumed has a negative correlation with test score which is even though not very high, it's still strange to find how can water consumption negatively impact test score. The reason could be because of a small dataset in which every candidate is drinking sufficient which is not impacting any difference in test scores."
   ]
  },
  {
   "cell_type": "markdown",
   "id": "b82a05bf",
   "metadata": {},
   "source": [
    "6. The very high positive correlation with Outdoor Activity Time highlights the role of physical activity in maintaining overall well-being, which can positively impact cognitive function and academic success."
   ]
  },
  {
   "cell_type": "code",
   "execution_count": null,
   "id": "4e93e408",
   "metadata": {},
   "outputs": [],
   "source": []
  }
 ],
 "metadata": {
  "kernelspec": {
   "display_name": "Python 3 (ipykernel)",
   "language": "python",
   "name": "python3"
  },
  "language_info": {
   "codemirror_mode": {
    "name": "ipython",
    "version": 3
   },
   "file_extension": ".py",
   "mimetype": "text/x-python",
   "name": "python",
   "nbconvert_exporter": "python",
   "pygments_lexer": "ipython3",
   "version": "3.9.13"
  }
 },
 "nbformat": 4,
 "nbformat_minor": 5
}
