{
 "cells": [
  {
   "cell_type": "markdown",
   "metadata": {},
   "source": [
    "## Mahalanobis Distance"
   ]
  },
  {
   "cell_type": "code",
   "execution_count": 69,
   "metadata": {},
   "outputs": [
    {
     "data": {
      "text/html": [
       "<div>\n",
       "<style scoped>\n",
       "    .dataframe tbody tr th:only-of-type {\n",
       "        vertical-align: middle;\n",
       "    }\n",
       "\n",
       "    .dataframe tbody tr th {\n",
       "        vertical-align: top;\n",
       "    }\n",
       "\n",
       "    .dataframe thead th {\n",
       "        text-align: right;\n",
       "    }\n",
       "</style>\n",
       "<table border=\"1\" class=\"dataframe\">\n",
       "  <thead>\n",
       "    <tr style=\"text-align: right;\">\n",
       "      <th></th>\n",
       "      <th>SepalLengthCm</th>\n",
       "      <th>SepalWidthCm</th>\n",
       "      <th>PetalLengthCm</th>\n",
       "      <th>PetalWidthCm</th>\n",
       "      <th>Species</th>\n",
       "    </tr>\n",
       "  </thead>\n",
       "  <tbody>\n",
       "    <tr>\n",
       "      <th>0</th>\n",
       "      <td>5.1</td>\n",
       "      <td>3.5</td>\n",
       "      <td>1.4</td>\n",
       "      <td>0.2</td>\n",
       "      <td>Iris-setosa</td>\n",
       "    </tr>\n",
       "    <tr>\n",
       "      <th>1</th>\n",
       "      <td>4.9</td>\n",
       "      <td>3.0</td>\n",
       "      <td>1.4</td>\n",
       "      <td>0.2</td>\n",
       "      <td>Iris-setosa</td>\n",
       "    </tr>\n",
       "    <tr>\n",
       "      <th>2</th>\n",
       "      <td>4.7</td>\n",
       "      <td>3.2</td>\n",
       "      <td>1.3</td>\n",
       "      <td>0.2</td>\n",
       "      <td>Iris-setosa</td>\n",
       "    </tr>\n",
       "    <tr>\n",
       "      <th>3</th>\n",
       "      <td>4.6</td>\n",
       "      <td>3.1</td>\n",
       "      <td>1.5</td>\n",
       "      <td>0.2</td>\n",
       "      <td>Iris-setosa</td>\n",
       "    </tr>\n",
       "    <tr>\n",
       "      <th>4</th>\n",
       "      <td>5.0</td>\n",
       "      <td>3.6</td>\n",
       "      <td>1.4</td>\n",
       "      <td>0.2</td>\n",
       "      <td>Iris-setosa</td>\n",
       "    </tr>\n",
       "  </tbody>\n",
       "</table>\n",
       "</div>"
      ],
      "text/plain": [
       "   SepalLengthCm  SepalWidthCm  PetalLengthCm  PetalWidthCm      Species\n",
       "0            5.1           3.5            1.4           0.2  Iris-setosa\n",
       "1            4.9           3.0            1.4           0.2  Iris-setosa\n",
       "2            4.7           3.2            1.3           0.2  Iris-setosa\n",
       "3            4.6           3.1            1.5           0.2  Iris-setosa\n",
       "4            5.0           3.6            1.4           0.2  Iris-setosa"
      ]
     },
     "execution_count": 69,
     "metadata": {},
     "output_type": "execute_result"
    }
   ],
   "source": [
    "import pandas as pd\n",
    "import numpy.random as nr\n",
    "\n",
    "import matplotlib.pyplot as plt\n",
    "\n",
    "Iris = pd.read_csv('iris.csv')\n",
    "Iris.drop(columns='Id', inplace= True, axis= 1)\n",
    "Iris.head()"
   ]
  },
  {
   "cell_type": "code",
   "execution_count": 70,
   "metadata": {},
   "outputs": [
    {
     "data": {
      "text/html": [
       "<div>\n",
       "<style scoped>\n",
       "    .dataframe tbody tr th:only-of-type {\n",
       "        vertical-align: middle;\n",
       "    }\n",
       "\n",
       "    .dataframe tbody tr th {\n",
       "        vertical-align: top;\n",
       "    }\n",
       "\n",
       "    .dataframe thead th {\n",
       "        text-align: right;\n",
       "    }\n",
       "</style>\n",
       "<table border=\"1\" class=\"dataframe\">\n",
       "  <thead>\n",
       "    <tr style=\"text-align: right;\">\n",
       "      <th></th>\n",
       "      <th>SepalLengthCm</th>\n",
       "      <th>SepalWidthCm</th>\n",
       "      <th>PetalLengthCm</th>\n",
       "      <th>PetalWidthCm</th>\n",
       "    </tr>\n",
       "  </thead>\n",
       "  <tbody>\n",
       "    <tr>\n",
       "      <th>count</th>\n",
       "      <td>150.000000</td>\n",
       "      <td>150.000000</td>\n",
       "      <td>150.000000</td>\n",
       "      <td>150.000000</td>\n",
       "    </tr>\n",
       "    <tr>\n",
       "      <th>mean</th>\n",
       "      <td>5.843333</td>\n",
       "      <td>3.054000</td>\n",
       "      <td>3.758667</td>\n",
       "      <td>1.198667</td>\n",
       "    </tr>\n",
       "    <tr>\n",
       "      <th>std</th>\n",
       "      <td>0.828066</td>\n",
       "      <td>0.433594</td>\n",
       "      <td>1.764420</td>\n",
       "      <td>0.763161</td>\n",
       "    </tr>\n",
       "    <tr>\n",
       "      <th>min</th>\n",
       "      <td>4.300000</td>\n",
       "      <td>2.000000</td>\n",
       "      <td>1.000000</td>\n",
       "      <td>0.100000</td>\n",
       "    </tr>\n",
       "    <tr>\n",
       "      <th>25%</th>\n",
       "      <td>5.100000</td>\n",
       "      <td>2.800000</td>\n",
       "      <td>1.600000</td>\n",
       "      <td>0.300000</td>\n",
       "    </tr>\n",
       "    <tr>\n",
       "      <th>50%</th>\n",
       "      <td>5.800000</td>\n",
       "      <td>3.000000</td>\n",
       "      <td>4.350000</td>\n",
       "      <td>1.300000</td>\n",
       "    </tr>\n",
       "    <tr>\n",
       "      <th>75%</th>\n",
       "      <td>6.400000</td>\n",
       "      <td>3.300000</td>\n",
       "      <td>5.100000</td>\n",
       "      <td>1.800000</td>\n",
       "    </tr>\n",
       "    <tr>\n",
       "      <th>max</th>\n",
       "      <td>7.900000</td>\n",
       "      <td>4.400000</td>\n",
       "      <td>6.900000</td>\n",
       "      <td>2.500000</td>\n",
       "    </tr>\n",
       "  </tbody>\n",
       "</table>\n",
       "</div>"
      ],
      "text/plain": [
       "       SepalLengthCm  SepalWidthCm  PetalLengthCm  PetalWidthCm\n",
       "count     150.000000    150.000000     150.000000    150.000000\n",
       "mean        5.843333      3.054000       3.758667      1.198667\n",
       "std         0.828066      0.433594       1.764420      0.763161\n",
       "min         4.300000      2.000000       1.000000      0.100000\n",
       "25%         5.100000      2.800000       1.600000      0.300000\n",
       "50%         5.800000      3.000000       4.350000      1.300000\n",
       "75%         6.400000      3.300000       5.100000      1.800000\n",
       "max         7.900000      4.400000       6.900000      2.500000"
      ]
     },
     "execution_count": 70,
     "metadata": {},
     "output_type": "execute_result"
    }
   ],
   "source": [
    "Iris.describe()"
   ]
  },
  {
   "cell_type": "markdown",
   "metadata": {},
   "source": [
    "### Selecting Random data"
   ]
  },
  {
   "cell_type": "code",
   "execution_count": 133,
   "metadata": {},
   "outputs": [
    {
     "data": {
      "text/plain": [
       "[40, 69, 125]"
      ]
     },
     "execution_count": 133,
     "metadata": {},
     "output_type": "execute_result"
    }
   ],
   "source": [
    "SampleList = []\n",
    "for i in range(3):\n",
    "    SampleList.append(nr.randint(i*50, i*50+49))\n",
    "SampleList"
   ]
  },
  {
   "cell_type": "code",
   "execution_count": 134,
   "metadata": {},
   "outputs": [
    {
     "name": "stderr",
     "output_type": "stream",
     "text": [
      "C:\\Users\\Ayush\\AppData\\Local\\Temp\\ipykernel_21436\\3259091296.py:4: SettingWithCopyWarning: \n",
      "A value is trying to be set on a copy of a slice from a DataFrame\n",
      "\n",
      "See the caveats in the documentation: https://pandas.pydata.org/pandas-docs/stable/user_guide/indexing.html#returning-a-view-versus-a-copy\n",
      "  TestData.drop(columns='Species', inplace= True)\n"
     ]
    },
    {
     "data": {
      "text/html": [
       "<div>\n",
       "<style scoped>\n",
       "    .dataframe tbody tr th:only-of-type {\n",
       "        vertical-align: middle;\n",
       "    }\n",
       "\n",
       "    .dataframe tbody tr th {\n",
       "        vertical-align: top;\n",
       "    }\n",
       "\n",
       "    .dataframe thead th {\n",
       "        text-align: right;\n",
       "    }\n",
       "</style>\n",
       "<table border=\"1\" class=\"dataframe\">\n",
       "  <thead>\n",
       "    <tr style=\"text-align: right;\">\n",
       "      <th></th>\n",
       "      <th>SepalLengthCm</th>\n",
       "      <th>SepalWidthCm</th>\n",
       "      <th>PetalLengthCm</th>\n",
       "      <th>PetalWidthCm</th>\n",
       "    </tr>\n",
       "  </thead>\n",
       "  <tbody>\n",
       "    <tr>\n",
       "      <th>40</th>\n",
       "      <td>5.0</td>\n",
       "      <td>3.5</td>\n",
       "      <td>1.3</td>\n",
       "      <td>0.3</td>\n",
       "    </tr>\n",
       "    <tr>\n",
       "      <th>69</th>\n",
       "      <td>5.6</td>\n",
       "      <td>2.5</td>\n",
       "      <td>3.9</td>\n",
       "      <td>1.1</td>\n",
       "    </tr>\n",
       "    <tr>\n",
       "      <th>125</th>\n",
       "      <td>7.2</td>\n",
       "      <td>3.2</td>\n",
       "      <td>6.0</td>\n",
       "      <td>1.8</td>\n",
       "    </tr>\n",
       "  </tbody>\n",
       "</table>\n",
       "</div>"
      ],
      "text/plain": [
       "     SepalLengthCm  SepalWidthCm  PetalLengthCm  PetalWidthCm\n",
       "40             5.0           3.5            1.3           0.3\n",
       "69             5.6           2.5            3.9           1.1\n",
       "125            7.2           3.2            6.0           1.8"
      ]
     },
     "execution_count": 134,
     "metadata": {},
     "output_type": "execute_result"
    }
   ],
   "source": [
    "TestData = Iris.iloc[SampleList]\n",
    "TrainData = Iris.drop(index=SampleList)\n",
    "TrainData.drop(columns='Species', inplace= True)\n",
    "TestData.drop(columns='Species', inplace= True)\n",
    "\n",
    "TestData"
   ]
  },
  {
   "cell_type": "markdown",
   "metadata": {},
   "source": [
    "#### Calculating Mean"
   ]
  },
  {
   "cell_type": "code",
   "execution_count": 136,
   "metadata": {},
   "outputs": [
    {
     "data": {
      "text/plain": [
       "[SepalLengthCm    5.006122\n",
       " SepalWidthCm     3.416327\n",
       " PetalLengthCm    1.467347\n",
       " PetalWidthCm     0.242857\n",
       " dtype: float64,\n",
       " SepalLengthCm    5.942857\n",
       " SepalWidthCm     2.775510\n",
       " PetalLengthCm    4.267347\n",
       " PetalWidthCm     1.330612\n",
       " dtype: float64,\n",
       " SepalLengthCm    6.575510\n",
       " SepalWidthCm     2.969388\n",
       " PetalLengthCm    5.542857\n",
       " PetalWidthCm     2.030612\n",
       " dtype: float64]"
      ]
     },
     "execution_count": 136,
     "metadata": {},
     "output_type": "execute_result"
    }
   ],
   "source": [
    "MeanVec = []\n",
    "for i in range(3):\n",
    "    MeanVec.append(TrainData[i*49: (i+1)*49].mean(axis=0, numeric_only=True))\n",
    "    # print(MeanVec[-1])\n",
    "MeanVec"
   ]
  },
  {
   "cell_type": "code",
   "execution_count": 111,
   "metadata": {},
   "outputs": [
    {
     "data": {
      "text/plain": [
       "array([[5.058     , 3.418     , 1.532     , 0.268     ],\n",
       "       [5.918     , 2.768     , 4.298     , 1.356     ],\n",
       "       [6.60425532, 2.97021277, 5.56170213, 2.01276596]])"
      ]
     },
     "execution_count": 111,
     "metadata": {},
     "output_type": "execute_result"
    }
   ],
   "source": [
    "import numpy as np\n",
    "MeanVec = np.array(MeanVec)\n",
    "MeanVec"
   ]
  },
  {
   "cell_type": "markdown",
   "metadata": {},
   "source": [
    "#### Subtacting mean"
   ]
  },
  {
   "cell_type": "code",
   "execution_count": 114,
   "metadata": {},
   "outputs": [
    {
     "data": {
      "text/plain": [
       "array([[ 0.042     ,  0.082     , -0.132     , -0.068     ],\n",
       "       [-0.158     , -0.418     , -0.132     , -0.068     ],\n",
       "       [-0.358     , -0.218     , -0.232     , -0.068     ],\n",
       "       [-0.458     , -0.318     , -0.032     , -0.068     ],\n",
       "       [-0.058     ,  0.182     , -0.132     , -0.068     ],\n",
       "       [ 0.342     ,  0.482     ,  0.168     ,  0.132     ],\n",
       "       [-0.458     , -0.018     , -0.132     ,  0.032     ],\n",
       "       [-0.058     , -0.018     , -0.032     , -0.068     ],\n",
       "       [-0.658     , -0.518     , -0.132     , -0.068     ],\n",
       "       [-0.158     , -0.318     , -0.032     , -0.168     ],\n",
       "       [ 0.342     ,  0.282     , -0.032     , -0.068     ],\n",
       "       [-0.258     , -0.018     ,  0.068     , -0.068     ],\n",
       "       [-0.258     , -0.418     , -0.132     , -0.168     ],\n",
       "       [-0.758     , -0.418     , -0.432     , -0.168     ],\n",
       "       [ 0.742     ,  0.582     , -0.332     , -0.068     ],\n",
       "       [ 0.642     ,  0.982     , -0.032     ,  0.132     ],\n",
       "       [ 0.342     ,  0.482     , -0.232     ,  0.132     ],\n",
       "       [ 0.042     ,  0.082     , -0.132     ,  0.032     ],\n",
       "       [ 0.642     ,  0.382     ,  0.168     ,  0.032     ],\n",
       "       [ 0.042     ,  0.382     , -0.032     ,  0.032     ],\n",
       "       [ 0.342     , -0.018     ,  0.168     , -0.068     ],\n",
       "       [ 0.042     ,  0.282     , -0.032     ,  0.132     ],\n",
       "       [-0.458     ,  0.182     , -0.532     , -0.068     ],\n",
       "       [ 0.042     , -0.118     ,  0.168     ,  0.232     ],\n",
       "       [-0.258     , -0.018     ,  0.368     , -0.068     ],\n",
       "       [-0.058     , -0.418     ,  0.068     , -0.068     ],\n",
       "       [-0.058     , -0.018     ,  0.068     ,  0.132     ],\n",
       "       [ 0.142     ,  0.082     , -0.032     , -0.068     ],\n",
       "       [ 0.142     , -0.018     , -0.132     , -0.068     ],\n",
       "       [-0.358     , -0.218     ,  0.068     , -0.068     ],\n",
       "       [-0.258     , -0.318     ,  0.068     , -0.068     ],\n",
       "       [ 0.342     , -0.018     , -0.032     ,  0.132     ],\n",
       "       [ 0.142     ,  0.682     , -0.032     , -0.168     ],\n",
       "       [ 0.442     ,  0.782     , -0.132     , -0.068     ],\n",
       "       [-0.158     , -0.318     , -0.032     , -0.168     ],\n",
       "       [-0.058     , -0.218     , -0.332     , -0.068     ],\n",
       "       [ 0.442     ,  0.082     , -0.232     , -0.068     ],\n",
       "       [-0.158     , -0.318     , -0.032     , -0.168     ],\n",
       "       [-0.658     , -0.418     , -0.232     , -0.068     ],\n",
       "       [ 0.042     , -0.018     , -0.032     , -0.068     ],\n",
       "       [-0.058     ,  0.082     , -0.232     ,  0.032     ],\n",
       "       [-0.558     , -1.118     , -0.232     ,  0.032     ],\n",
       "       [-0.058     ,  0.082     ,  0.068     ,  0.332     ],\n",
       "       [ 0.042     ,  0.382     ,  0.368     ,  0.132     ],\n",
       "       [-0.258     , -0.418     , -0.132     ,  0.032     ],\n",
       "       [ 0.042     ,  0.382     ,  0.068     , -0.068     ],\n",
       "       [-0.458     , -0.218     , -0.132     , -0.068     ],\n",
       "       [ 0.242     ,  0.282     , -0.032     , -0.068     ],\n",
       "       [-0.058     , -0.118     , -0.132     , -0.068     ],\n",
       "       [ 1.082     ,  0.432     ,  0.402     ,  0.044     ],\n",
       "       [ 0.482     ,  0.432     ,  0.202     ,  0.144     ],\n",
       "       [ 0.982     ,  0.332     ,  0.602     ,  0.144     ],\n",
       "       [-0.418     , -0.468     , -0.298     , -0.056     ],\n",
       "       [ 0.582     ,  0.032     ,  0.302     ,  0.144     ],\n",
       "       [-0.218     ,  0.032     ,  0.202     , -0.056     ],\n",
       "       [ 0.382     ,  0.532     ,  0.402     ,  0.244     ],\n",
       "       [-1.018     , -0.368     , -0.998     , -0.356     ],\n",
       "       [ 0.682     ,  0.132     ,  0.302     , -0.056     ],\n",
       "       [-0.718     , -0.068     , -0.398     ,  0.044     ],\n",
       "       [-0.918     , -0.768     , -0.798     , -0.356     ],\n",
       "       [-0.018     ,  0.232     , -0.098     ,  0.144     ],\n",
       "       [ 0.082     , -0.568     , -0.298     , -0.356     ],\n",
       "       [ 0.182     ,  0.132     ,  0.402     ,  0.044     ],\n",
       "       [-0.318     ,  0.132     , -0.698     , -0.056     ],\n",
       "       [ 0.782     ,  0.332     ,  0.102     ,  0.044     ],\n",
       "       [-0.318     ,  0.232     ,  0.202     ,  0.144     ],\n",
       "       [-0.118     , -0.068     , -0.198     , -0.356     ],\n",
       "       [ 0.282     , -0.568     ,  0.202     ,  0.144     ],\n",
       "       [-0.318     , -0.268     , -0.398     , -0.256     ],\n",
       "       [-0.018     ,  0.432     ,  0.502     ,  0.444     ],\n",
       "       [ 0.182     ,  0.032     , -0.298     , -0.056     ],\n",
       "       [ 0.382     , -0.268     ,  0.602     ,  0.144     ],\n",
       "       [ 0.182     ,  0.032     ,  0.402     , -0.156     ],\n",
       "       [ 0.482     ,  0.132     ,  0.002     , -0.056     ],\n",
       "       [ 0.682     ,  0.232     ,  0.102     ,  0.044     ],\n",
       "       [ 0.882     ,  0.032     ,  0.502     ,  0.044     ],\n",
       "       [ 0.782     ,  0.232     ,  0.702     ,  0.344     ],\n",
       "       [-0.218     , -0.168     , -0.798     , -0.356     ],\n",
       "       [-0.418     , -0.368     , -0.498     , -0.256     ],\n",
       "       [-0.418     , -0.368     , -0.598     , -0.356     ],\n",
       "       [-0.118     , -0.068     , -0.398     , -0.156     ],\n",
       "       [ 0.082     , -0.068     ,  0.802     ,  0.244     ],\n",
       "       [-0.518     ,  0.232     ,  0.202     ,  0.144     ],\n",
       "       [ 0.082     ,  0.632     ,  0.202     ,  0.244     ],\n",
       "       [ 0.782     ,  0.332     ,  0.402     ,  0.144     ],\n",
       "       [ 0.382     , -0.468     ,  0.102     , -0.056     ],\n",
       "       [-0.318     ,  0.232     , -0.198     , -0.056     ],\n",
       "       [-0.418     , -0.268     , -0.298     , -0.056     ],\n",
       "       [-0.418     , -0.168     ,  0.102     , -0.156     ],\n",
       "       [ 0.182     ,  0.232     ,  0.302     ,  0.044     ],\n",
       "       [-0.118     , -0.168     , -0.298     , -0.156     ],\n",
       "       [-0.918     , -0.468     , -0.998     , -0.356     ],\n",
       "       [-0.318     , -0.068     , -0.098     , -0.056     ],\n",
       "       [-0.218     ,  0.232     , -0.098     , -0.156     ],\n",
       "       [-0.218     ,  0.132     , -0.098     , -0.056     ],\n",
       "       [ 0.282     ,  0.132     ,  0.002     , -0.056     ],\n",
       "       [-0.818     , -0.268     , -1.298     , -0.256     ],\n",
       "       [-0.218     ,  0.032     , -0.198     , -0.056     ],\n",
       "       [-0.30425532,  0.32978723,  0.43829787,  0.48723404],\n",
       "       [-0.80425532, -0.27021277, -0.46170213, -0.11276596],\n",
       "       [ 0.49574468,  0.02978723,  0.33829787,  0.08723404],\n",
       "       [-0.30425532, -0.07021277,  0.03829787, -0.21276596],\n",
       "       [-0.10425532,  0.02978723,  0.23829787,  0.18723404],\n",
       "       [ 0.99574468,  0.02978723,  1.03829787,  0.08723404],\n",
       "       [-1.70425532, -0.47021277, -1.06170213, -0.31276596],\n",
       "       [ 0.69574468, -0.07021277,  0.73829787, -0.21276596],\n",
       "       [ 0.09574468, -0.47021277,  0.23829787, -0.21276596],\n",
       "       [ 0.59574468,  0.62978723,  0.53829787,  0.48723404],\n",
       "       [-0.10425532,  0.22978723, -0.46170213, -0.01276596],\n",
       "       [-0.20425532, -0.27021277, -0.26170213, -0.11276596],\n",
       "       [ 0.19574468,  0.02978723, -0.06170213,  0.08723404],\n",
       "       [-0.90425532, -0.47021277, -0.56170213, -0.01276596],\n",
       "       [-0.80425532, -0.17021277, -0.46170213,  0.38723404],\n",
       "       [-0.20425532,  0.22978723, -0.26170213,  0.28723404],\n",
       "       [-0.10425532,  0.02978723, -0.06170213, -0.21276596],\n",
       "       [ 1.09574468,  0.82978723,  1.13829787,  0.18723404],\n",
       "       [ 1.09574468, -0.37021277,  1.33829787,  0.28723404],\n",
       "       [-0.60425532, -0.77021277, -0.56170213, -0.51276596],\n",
       "       [ 0.29574468,  0.22978723,  0.13829787,  0.28723404],\n",
       "       [-1.00425532, -0.17021277, -0.66170213, -0.01276596],\n",
       "       [ 1.09574468, -0.17021277,  1.13829787, -0.01276596],\n",
       "       [-0.30425532, -0.27021277, -0.66170213, -0.21276596],\n",
       "       [ 0.09574468,  0.32978723,  0.13829787,  0.08723404],\n",
       "       [ 0.59574468,  0.22978723,  0.43829787, -0.21276596],\n",
       "       [-0.40425532, -0.17021277, -0.76170213, -0.21276596],\n",
       "       [-0.50425532,  0.02978723, -0.66170213, -0.21276596],\n",
       "       [-0.20425532, -0.17021277,  0.03829787,  0.08723404],\n",
       "       [ 0.59574468,  0.02978723,  0.23829787, -0.41276596],\n",
       "       [ 0.79574468, -0.17021277,  0.53829787, -0.11276596],\n",
       "       [ 1.29574468,  0.82978723,  0.83829787, -0.01276596],\n",
       "       [-0.20425532, -0.17021277,  0.03829787,  0.18723404],\n",
       "       [-0.30425532, -0.17021277, -0.46170213, -0.51276596],\n",
       "       [-0.50425532, -0.37021277,  0.03829787, -0.61276596],\n",
       "       [ 1.09574468,  0.02978723,  0.53829787,  0.28723404],\n",
       "       [-0.30425532,  0.42978723,  0.03829787,  0.38723404],\n",
       "       [-0.20425532,  0.12978723, -0.06170213, -0.21276596],\n",
       "       [-0.60425532,  0.02978723, -0.76170213, -0.21276596],\n",
       "       [ 0.29574468,  0.12978723, -0.16170213,  0.08723404],\n",
       "       [ 0.09574468,  0.12978723,  0.03829787,  0.38723404],\n",
       "       [-0.80425532, -0.27021277, -0.46170213, -0.11276596],\n",
       "       [ 0.19574468,  0.22978723,  0.33829787,  0.28723404],\n",
       "       [ 0.09574468,  0.32978723,  0.13829787,  0.48723404],\n",
       "       [ 0.09574468,  0.02978723, -0.36170213,  0.28723404],\n",
       "       [-0.30425532, -0.47021277, -0.56170213, -0.11276596],\n",
       "       [-0.10425532,  0.02978723, -0.36170213, -0.01276596],\n",
       "       [-0.40425532,  0.42978723, -0.16170213,  0.28723404],\n",
       "       [-0.70425532,  0.02978723, -0.46170213, -0.21276596]])"
      ]
     },
     "execution_count": 114,
     "metadata": {},
     "output_type": "execute_result"
    }
   ],
   "source": [
    "MeanSub = []\n",
    "for i in range (3):\n",
    "    for j in range (49):\n",
    "        MeanSub.append(TrainData.iloc[i*49 + j] - MeanVec[i])\n",
    "\n",
    "MeanSub = np.array(MeanSub)\n",
    "MeanSub.shape\n",
    "MeanSub"
   ]
  },
  {
   "cell_type": "code",
   "execution_count": 140,
   "metadata": {},
   "outputs": [
    {
     "data": {
      "text/html": [
       "<div>\n",
       "<style scoped>\n",
       "    .dataframe tbody tr th:only-of-type {\n",
       "        vertical-align: middle;\n",
       "    }\n",
       "\n",
       "    .dataframe tbody tr th {\n",
       "        vertical-align: top;\n",
       "    }\n",
       "\n",
       "    .dataframe thead th {\n",
       "        text-align: right;\n",
       "    }\n",
       "</style>\n",
       "<table border=\"1\" class=\"dataframe\">\n",
       "  <thead>\n",
       "    <tr style=\"text-align: right;\">\n",
       "      <th></th>\n",
       "      <th>SepalLengthCm</th>\n",
       "      <th>SepalWidthCm</th>\n",
       "      <th>PetalLengthCm</th>\n",
       "      <th>PetalWidthCm</th>\n",
       "    </tr>\n",
       "  </thead>\n",
       "  <tbody>\n",
       "    <tr>\n",
       "      <th>SepalLengthCm</th>\n",
       "      <td>0.681896</td>\n",
       "      <td>-0.039780</td>\n",
       "      <td>1.265062</td>\n",
       "      <td>0.516587</td>\n",
       "    </tr>\n",
       "    <tr>\n",
       "      <th>SepalWidthCm</th>\n",
       "      <td>-0.039780</td>\n",
       "      <td>0.188256</td>\n",
       "      <td>-0.322517</td>\n",
       "      <td>-0.118635</td>\n",
       "    </tr>\n",
       "    <tr>\n",
       "      <th>PetalLengthCm</th>\n",
       "      <td>1.265062</td>\n",
       "      <td>-0.322517</td>\n",
       "      <td>3.101199</td>\n",
       "      <td>1.298755</td>\n",
       "    </tr>\n",
       "    <tr>\n",
       "      <th>PetalWidthCm</th>\n",
       "      <td>0.516587</td>\n",
       "      <td>-0.118635</td>\n",
       "      <td>1.298755</td>\n",
       "      <td>0.586300</td>\n",
       "    </tr>\n",
       "  </tbody>\n",
       "</table>\n",
       "</div>"
      ],
      "text/plain": [
       "               SepalLengthCm  SepalWidthCm  PetalLengthCm  PetalWidthCm\n",
       "SepalLengthCm       0.681896     -0.039780       1.265062      0.516587\n",
       "SepalWidthCm       -0.039780      0.188256      -0.322517     -0.118635\n",
       "PetalLengthCm       1.265062     -0.322517       3.101199      1.298755\n",
       "PetalWidthCm        0.516587     -0.118635       1.298755      0.586300"
      ]
     },
     "execution_count": 140,
     "metadata": {},
     "output_type": "execute_result"
    }
   ],
   "source": [
    "Sigma = TrainData.cov()\n",
    "Sigma\n",
    "type(Sigma)\n",
    "Sigma"
   ]
  },
  {
   "cell_type": "code",
   "execution_count": 138,
   "metadata": {},
   "outputs": [
    {
     "data": {
      "text/plain": [
       "array([[ 0.68189637, -0.03977961,  1.2650615 ,  0.51658699],\n",
       "       [-0.03977961,  0.18825645, -0.32251747, -0.11863526],\n",
       "       [ 1.2650615 , -0.32251747,  3.10119933,  1.29875454],\n",
       "       [ 0.51658699, -0.11863526,  1.29875454,  0.58629951]])"
      ]
     },
     "execution_count": 138,
     "metadata": {},
     "output_type": "execute_result"
    }
   ],
   "source": [
    "Sigma = np.array(Sigma)\n",
    "Sigma"
   ]
  },
  {
   "cell_type": "code",
   "execution_count": 143,
   "metadata": {},
   "outputs": [
    {
     "data": {
      "text/plain": [
       "array([[ 10.1597557 ,  -6.63665674,  -7.23775326,   5.73823745],\n",
       "       [ -6.63665674,  11.07626084,   6.52323714,  -6.36131906],\n",
       "       [ -7.23775326,   6.52323714,  10.09390728, -14.66263015],\n",
       "       [  5.73823745,  -6.36131906, -14.66263015,  27.84273527]])"
      ]
     },
     "execution_count": 143,
     "metadata": {},
     "output_type": "execute_result"
    }
   ],
   "source": [
    "SigInv = np.linalg.inv(Sigma)\n",
    "SigInv"
   ]
  },
  {
   "cell_type": "code",
   "execution_count": 146,
   "metadata": {},
   "outputs": [
    {
     "data": {
      "text/plain": [
       "(147, 147)"
      ]
     },
     "execution_count": 146,
     "metadata": {},
     "output_type": "execute_result"
    }
   ],
   "source": [
    "MDsq = MeanSub.dot(SigInv.dot(MeanSub.T))\n",
    "# print(MeanSub.T.shape)\n",
    "# print(Sigma.shape)\n",
    "# print(MeanSub.shape)\n",
    "\n",
    "MDsq.shape"
   ]
  }
 ],
 "metadata": {
  "kernelspec": {
   "display_name": "Python 3",
   "language": "python",
   "name": "python3"
  },
  "language_info": {
   "codemirror_mode": {
    "name": "ipython",
    "version": 3
   },
   "file_extension": ".py",
   "mimetype": "text/x-python",
   "name": "python",
   "nbconvert_exporter": "python",
   "pygments_lexer": "ipython3",
   "version": "3.11.1"
  },
  "orig_nbformat": 4
 },
 "nbformat": 4,
 "nbformat_minor": 2
}
