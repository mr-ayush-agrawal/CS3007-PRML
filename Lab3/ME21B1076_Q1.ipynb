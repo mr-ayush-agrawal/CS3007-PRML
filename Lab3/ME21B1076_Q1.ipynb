{
 "cells": [
  {
   "cell_type": "code",
   "execution_count": 4,
   "id": "6efd3a21",
   "metadata": {},
   "outputs": [
    {
     "name": "stdout",
     "output_type": "stream",
     "text": [
      "Original Class: Iris-setosa, Predicted Class: Iris-setosa, Mahalanobis Distance: 2.035\n",
      "Original Class: Iris-versicolor, Predicted Class: Iris-versicolor, Mahalanobis Distance: 2.086\n",
      "Original Class: Iris-virginica, Predicted Class: Iris-virginica, Mahalanobis Distance: 2.315\n"
     ]
    }
   ],
   "source": [
    "import numpy as np\n",
    "import pandas as pd\n",
    "\n",
    "# Load the Iris dataset\n",
    "iris_data = pd.read_csv(\"../iris.csv\")\n",
    "\n",
    "# Select one random sample from each class as test data\n",
    "test_samples = []\n",
    "for class_name in iris_data[\"Species\"].unique():\n",
    "    class_data = iris_data[iris_data[\"Species\"] == class_name]\n",
    "    random_sample = class_data.sample(1)\n",
    "    test_samples.append(random_sample)\n",
    "\n",
    "# Compute mean vector and covariance matrix for each class\n",
    "class_mean_cov = {}\n",
    "for class_name in iris_data[\"Species\"].unique():\n",
    "    class_data = iris_data[iris_data[\"Species\"] == class_name]\n",
    "    class_data = class_data.drop(columns=[\"Species\"])\n",
    "    class_mean = np.mean(class_data, axis=0)\n",
    "    class_cov = np.cov(class_data, rowvar=False)\n",
    "    class_mean_cov[class_name] = (class_mean, class_cov)\n",
    "\n",
    "# Calculate Mahalanobis distance and classify test samples\n",
    "def mahalanobis_distance(x, mean, cov_inv):\n",
    "    diff = x - mean\n",
    "    distance = np.sqrt(np.dot(np.dot(diff.T, cov_inv), diff))\n",
    "    return distance\n",
    "\n",
    "for test_sample in test_samples:\n",
    "    sample_features = test_sample.drop(columns=[\"Species\"]).values.flatten()\n",
    "    sample_class = test_sample[\"Species\"].values[0]\n",
    "    \n",
    "    min_distance = float(\"inf\")\n",
    "    predicted_class = None\n",
    "    \n",
    "    for class_name, (class_mean, class_cov) in class_mean_cov.items():\n",
    "        cov_inv = np.linalg.inv(class_cov)\n",
    "        distance = mahalanobis_distance(sample_features, class_mean, cov_inv)\n",
    "        \n",
    "        if distance < min_distance:\n",
    "            min_distance = distance\n",
    "            predicted_class = class_name\n",
    "    \n",
    "    print(f\"Original Class: {sample_class}, Predicted Class: {predicted_class}, Mahalanobis Distance: {min_distance:.3f}\")\n"
   ]
  }
 ],
 "metadata": {
  "kernelspec": {
   "display_name": "Python 3 (ipykernel)",
   "language": "python",
   "name": "python3"
  },
  "language_info": {
   "codemirror_mode": {
    "name": "ipython",
    "version": 3
   },
   "file_extension": ".py",
   "mimetype": "text/x-python",
   "name": "python",
   "nbconvert_exporter": "python",
   "pygments_lexer": "ipython3",
   "version": "3.11.1"
  }
 },
 "nbformat": 4,
 "nbformat_minor": 5
}
