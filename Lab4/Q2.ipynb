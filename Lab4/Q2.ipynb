{
 "cells": [
  {
   "cell_type": "code",
   "execution_count": 19,
   "metadata": {},
   "outputs": [],
   "source": [
    "import cv2\n",
    "img = cv2.imread(r'Lab4/queryimage.png', cv2.IMREAD_GRAYSCALE)"
   ]
  },
  {
   "cell_type": "code",
   "execution_count": 22,
   "metadata": {},
   "outputs": [
    {
     "ename": "TypeError",
     "evalue": "histogram() got an unexpected keyword argument 'color'",
     "output_type": "error",
     "traceback": [
      "\u001b[1;31m---------------------------------------------------------------------------\u001b[0m",
      "\u001b[1;31mTypeError\u001b[0m                                 Traceback (most recent call last)",
      "Cell \u001b[1;32mIn[22], line 2\u001b[0m\n\u001b[0;32m      1\u001b[0m \u001b[39mimport\u001b[39;00m \u001b[39mnumpy\u001b[39;00m \u001b[39mas\u001b[39;00m \u001b[39mnp\u001b[39;00m\n\u001b[1;32m----> 2\u001b[0m hist, bins \u001b[39m=\u001b[39m np\u001b[39m.\u001b[39;49mhistogram(img, bins\u001b[39m=\u001b[39;49m \u001b[39m256\u001b[39;49m, \u001b[39mrange\u001b[39;49m\u001b[39m=\u001b[39;49m(\u001b[39m0\u001b[39;49m,\u001b[39m256\u001b[39;49m), color \u001b[39m=\u001b[39;49m\u001b[39m'\u001b[39;49m\u001b[39mgray\u001b[39;49m\u001b[39m'\u001b[39;49m)\n",
      "\u001b[1;31mTypeError\u001b[0m: histogram() got an unexpected keyword argument 'color'"
     ]
    }
   ],
   "source": [
    "import numpy as np\n",
    "hist, bins = np.histogram(img, bins= 256, range=(0,256), color ='graP>y')\n"
   ]
  },
  {
   "cell_type": "code",
   "execution_count": 18,
   "metadata": {},
   "outputs": [
    {
     "ename": "AttributeError",
     "evalue": "'NoneType' object has no attribute 'ravel'",
     "output_type": "error",
     "traceback": [
      "\u001b[1;31m---------------------------------------------------------------------------\u001b[0m",
      "\u001b[1;31mAttributeError\u001b[0m                            Traceback (most recent call last)",
      "Cell \u001b[1;32mIn[18], line 4\u001b[0m\n\u001b[0;32m      1\u001b[0m \u001b[39mimport\u001b[39;00m \u001b[39mmatplotlib\u001b[39;00m\u001b[39m.\u001b[39;00m\u001b[39mpyplot\u001b[39;00m \u001b[39mas\u001b[39;00m \u001b[39mplt\u001b[39;00m\n\u001b[0;32m      3\u001b[0m \u001b[39m# histg = cv2.calcHist([img],[0],None,[256],[0,256])\u001b[39;00m\n\u001b[1;32m----> 4\u001b[0m plt\u001b[39m.\u001b[39mhist(img\u001b[39m.\u001b[39;49mravel(), \u001b[39mbin\u001b[39m\u001b[39m=\u001b[39m\u001b[39m256\u001b[39m,\u001b[39mrange\u001b[39m\u001b[39m=\u001b[39m(\u001b[39m0\u001b[39m, \u001b[39m256\u001b[39m), color\u001b[39m=\u001b[39m\u001b[39m'\u001b[39m\u001b[39mgray\u001b[39m\u001b[39m'\u001b[39m)\n",
      "\u001b[1;31mAttributeError\u001b[0m: 'NoneType' object has no attribute 'ravel'"
     ]
    }
   ],
   "source": [
    "import matplotlib.pyplot as plt\n",
    "\n",
    "# histg = cv2.calcHist([img],[0],None,[256],[0,256])\n",
    "plt.hist(img.ravel(), bin=256,range=(0, 256), color='gray')"
   ]
  }
 ],
 "metadata": {
  "kernelspec": {
   "display_name": "Python 3",
   "language": "python",
   "name": "python3"
  },
  "language_info": {
   "codemirror_mode": {
    "name": "ipython",
    "version": 3
   },
   "file_extension": ".py",
   "mimetype": "text/x-python",
   "name": "python",
   "nbconvert_exporter": "python",
   "pygments_lexer": "ipython3",
   "version": "3.11.1"
  },
  "orig_nbformat": 4
 },
 "nbformat": 4,
 "nbformat_minor": 2
}
