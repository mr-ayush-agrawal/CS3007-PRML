{
 "cells": [
  {
   "cell_type": "code",
   "execution_count": null,
   "metadata": {},
   "outputs": [],
   "source": [
    "import pandas as pd\n",
    "\n",
    "df = pd.read_csv(\"data.csv\")\n",
    "df"
   ]
  },
  {
   "cell_type": "code",
   "execution_count": null,
   "metadata": {},
   "outputs": [],
   "source": [
    "def Append():\n",
    "    print(\"Enter the new Record\")\n",
    "    name = input(\"Enter the name\")\n",
    "    Acc = eval(input(\"Enter the Account_Number\"))\n",
    "    Type = eval(input(\"Enter the Acc_Type\"))\n",
    "    adhar = eval(input(\"Enter the Adhar_No\"))\n",
    "    bal = eval(input(\"Enter the Balance\"))\n",
    "\n",
    "    df.loc[len(df.index)] = [name, Acc, Type, adhar, bal]\n",
    "\n",
    "    df.to_csv(\"data.csv\")\n",
    "\n",
    "    print(\"Your DataFrame After appending the record is\")\n",
    "    df\n",
    "\n"
   ]
  },
  {
   "cell_type": "code",
   "execution_count": null,
   "metadata": {},
   "outputs": [],
   "source": [
    "def delAcc():\n",
    "    Acc = eval(input(\"Enter the Account number to delete acc\"))\n",
    "    index = df[ (df['Account_Number'] == Acc)]\n",
    "\n",
    "    df.drop(index, inplace=True)\n",
    "\n",
    "    df.to_csv(\"data.csv\")\n",
    "\n",
    "    print(\"Your DataFrame After droping the record is\")\n",
    "    df"
   ]
  },
  {
   "cell_type": "code",
   "execution_count": null,
   "metadata": {},
   "outputs": [],
   "source": [
    "def Credit():\n",
    "    Acc = eval(input(\"Enter the Account number to Cerdit acc\"))\n",
    "    amt = eval(input(\"Enter the Amount to Cerdit acc\"))\n",
    "\n",
    "    for rec in df.index():\n",
    "        if df[rec]['Account_Number'] == Acc :\n",
    "            df[rec]['Balance']+=amt\n",
    "\n",
    "            print(f\"Total balance of {df[rec]['Account_Number']} is {df[rec]['Balance']}\")\n",
    "            break\n",
    "\n",
    "    df.to_csv(\"data.csv\")\n",
    "    \n"
   ]
  },
  {
   "cell_type": "code",
   "execution_count": null,
   "metadata": {},
   "outputs": [],
   "source": [
    "def Debit():\n",
    "    Acc = eval(input(\"Enter the Account number to Debit acc\"))\n",
    "    amt = eval(input(\"Enter the Amount to Cerdit acc\"))\n",
    "\n",
    "    for rec in df.index():\n",
    "        if df[rec]['Account_Number'] == Acc :\n",
    "            if df[rec]['Balance'] < amt and df[rec]['Acc_Type'] == 'SB':\n",
    "                print(\"Cant Debit the amount\")\n",
    "                break\n",
    "            else :\n",
    "                df[rec]['Balance']-=amt\n",
    "            \n",
    "                print(f\"Total balance of {df[rec]['Account_Number']} is {df[rec]['Balance']}\")\n",
    "                break\n",
    "\n",
    "    df.to_csv(\"data.csv\")\n",
    "    "
   ]
  },
  {
   "cell_type": "code",
   "execution_count": null,
   "metadata": {},
   "outputs": [],
   "source": [
    "def PrintDetails():\n",
    "    Acc = eval(input(\"Enter the Account number to Show details\"))\n",
    "    for rec in df.index():\n",
    "        if df[rec]['Account_Number'] == Acc :\n",
    "            print(df.columns.values)\n",
    "            print(df[rec])"
   ]
  },
  {
   "cell_type": "code",
   "execution_count": null,
   "metadata": {},
   "outputs": [],
   "source": [
    "def menu():\n",
    "    print(\"1. Append the record\")\n",
    "    print(\"2. Delete the record\")\n",
    "    print(\"3. Credit the amount\")\n",
    "    print(\"4. Debit the amount\")\n",
    "    print(\"5. show details\")\n",
    "    ch = int(input(\"Enter your choice \"))\n",
    "    if ch == 1 :\n",
    "        Append()\n",
    "    elif ch == 2 :\n",
    "        delAcc()\n",
    "    elif ch == 3: \n",
    "        Credit()\n",
    "    elif  ch ==4 :\n",
    "        Debit()\n",
    "    elif ch == 5 :\n",
    "        PrintDetails()\n",
    "    else :\n",
    "        print(\"Invalid selection.... Exiting\")\n",
    "        exit()"
   ]
  },
  {
   "cell_type": "code",
   "execution_count": null,
   "metadata": {},
   "outputs": [],
   "source": [
    "while True :\n",
    "    menu()"
   ]
  }
 ],
 "metadata": {
  "kernelspec": {
   "display_name": "Python 3",
   "language": "python",
   "name": "python3"
  },
  "language_info": {
   "codemirror_mode": {
    "name": "ipython",
    "version": 3
   },
   "file_extension": ".py",
   "mimetype": "text/x-python",
   "name": "python",
   "nbconvert_exporter": "python",
   "pygments_lexer": "ipython3",
   "version": "3.11.1"
  },
  "orig_nbformat": 4
 },
 "nbformat": 4,
 "nbformat_minor": 2
}
