{
 "cells": [
  {
   "cell_type": "markdown",
   "id": "912439e6",
   "metadata": {},
   "source": [
    "## Question 1\n",
    "\n",
    "Implementing classification algorithm using the Euclidean distance metric to predict the class of a given iris sample\n",
    "a. with two dimensions: SepalLength and Sepal Width\n",
    "b. with all the four features"
   ]
  },
  {
   "cell_type": "code",
   "execution_count": 4,
   "id": "f211a274",
   "metadata": {},
   "outputs": [],
   "source": [
    "# i. Load the Iris dataset and split it into a training set and a testing set.\n",
    "# The testing set contains the first 3 samples of each class\n",
    "\n",
    "import pandas as pd\n",
    "\n",
    "df = pd.read_csv(\"iris.csv\")\n",
    "\n",
    "def split_data_by_class(df, class_column):\n",
    "    test_indices = []\n",
    "    for class_name in df[class_column].unique():\n",
    "        indices = df[df[class_column] == class_name].index[:3]\n",
    "        test_indices.extend(indices)\n",
    "    test_set = df.loc[test_indices]\n",
    "    train_set = df.drop(test_indices)\n",
    "    return train_set, test_set\n",
    "\n",
    "# Split the data into training and testing sets based on the \"Species\" column\n",
    "train_set, test_set = split_data_by_class(df, \"Species\")\n",
    "\n"
   ]
  },
  {
   "cell_type": "code",
   "execution_count": 5,
   "id": "117e7536",
   "metadata": {},
   "outputs": [
    {
     "data": {
      "image/png": "[encoded data removed]",
      "text/plain": [
       "<Figure size 640x480 with 1 Axes>"
      ]
     },
     "metadata": {},
     "output_type": "display_data"
    }
   ],
   "source": [
    "# ii. Plot the training samples\n",
    "import matplotlib.pyplot as plt\n",
    "\n",
    "def plot_scatter(train_set, class_column):\n",
    "    colors = {\"Iris-setosa\": \"red\", \"Iris-versicolor\": \"green\", \"Iris-virginica\": \"blue\"}\n",
    "    for class_name, group in train_set.groupby(class_column):\n",
    "        plt.scatter(group[\"SepalLengthCm\"], group[\"SepalWidthCm\"], c=colors[class_name], label=class_name)\n",
    "    plt.xlabel(\"Sepal Length\")\n",
    "    plt.ylabel(\"Sepal Width\")\n",
    "    plt.legend()\n",
    "    plt.show()\n",
    "\n",
    "# Plot the training samples using a scatter plot\n",
    "plot_scatter(train_set, \"Species\")\n",
    "\n"
   ]
  },
  {
   "cell_type": "markdown",
   "id": "dc4e6855",
   "metadata": {},
   "source": [
    "### Inference from the plot\n",
    "The plot is the representation for Sepal Width in cm VS Sepal length in Cm .<br>\n",
    "It can be clearly seen that the width of the sepal for the Iris-setosa is more can can be eaisly classifed from the other 2 just on hte basis of the sepal length and width."
   ]
  },
  {
   "cell_type": "code",
   "execution_count": 6,
   "id": "7a0c9dc5",
   "metadata": {},
   "outputs": [],
   "source": [
    "# iii. Function to calculate Euclidean distance\n",
    "import numpy as np\n",
    "\n",
    "def euclidean_distance(x1, y1, x2, y2):\n",
    "    return np.sqrt((x1 - x2)**2 + (y1 - y2)**2)\n"
   ]
  },
  {
   "cell_type": "code",
   "execution_count": 12,
   "id": "14dd76ef",
   "metadata": {},
   "outputs": [],
   "source": [
    "# iv. Identify the K-nearest neighbors with the smallest Euclidean distances\n",
    "# for each sample in the testing set. k = [1,3,5,7,9,11]\n",
    "# v. Perform classification\n",
    "\n",
    "def classify_sample(train_set, test_sample, k):\n",
    "    distances = []\n",
    "    for idx, row in train_set.iterrows():\n",
    "        distance = euclidean_distance(row[\"SepalLengthCm\"], row[\"SepalWidthCm\"],\n",
    "                                      test_sample[\"SepalLengthCm\"], test_sample[\"SepalWidthCm\"])\n",
    "        distances.append((distance, row[\"Species\"]))\n",
    "\n",
    "    # Sort distances and find K-nearest neighbors\n",
    "    distances.sort(key=lambda x: x[0])\n",
    "    neighbors = distances[:k]\n",
    "\n",
    "    print(type(distance))\n",
    "    # Determine the majority class among the K-nearest neighbors\n",
    "    class_count = {}\n",
    "    for _, neighbor_class in neighbors:\n",
    "        class_count[neighbor_class] = class_count.get(neighbor_class, 0) + 1\n",
    "\n",
    "    predicted_class = max(class_count, key=class_count.get)\n",
    "    return predicted_class\n",
    "\n"
   ]
  },
  {
   "cell_type": "code",
   "execution_count": 9,
   "id": "153a0b3d",
   "metadata": {},
   "outputs": [
    {
     "name": "stdout",
     "output_type": "stream",
     "text": [
      "Accuracy with k=1: 0.44\n",
      "Accuracy with k=3: 0.56\n",
      "Accuracy with k=5: 0.56\n",
      "Accuracy with k=7: 0.56\n",
      "Accuracy with k=9: 0.56\n",
      "Accuracy with k=11: 0.56\n"
     ]
    }
   ],
   "source": [
    "# vi. Evaluate accuracy\n",
    "def calculate_accuracy(train_set, test_set, k):\n",
    "    correct_predictions = 0\n",
    "    total_samples = len(test_set)\n",
    "\n",
    "    for idx, test_sample in test_set.iterrows():\n",
    "        predicted_class = classify_sample(train_set, test_sample, k)\n",
    "        if predicted_class == test_sample[\"Species\"]:\n",
    "            correct_predictions += 1\n",
    "\n",
    "    accuracy = correct_predictions / total_samples\n",
    "    return accuracy\n",
    "\n",
    "# Define different values of K to experiment with\n",
    "k_values = [1, 3, 5, 7, 9, 11]\n",
    "\n",
    "# Calculate accuracy for each K value\n",
    "for k in k_values:\n",
    "    accuracy = calculate_accuracy(train_set, test_set, k)\n",
    "    print(f\"Accuracy with k={k}: {accuracy:.2f}\")\n"
   ]
  },
  {
   "cell_type": "markdown",
   "id": "0887dfb5",
   "metadata": {},
   "source": [
    "Using just two features , Sepal Length and Sepal Width, the accuracy for prediction using KNN Classification is not enough"
   ]
  },
  {
   "cell_type": "code",
   "execution_count": 14,
   "id": "dbf9daef",
   "metadata": {},
   "outputs": [
    {
     "name": "stdout",
     "output_type": "stream",
     "text": [
      "Accuracy with k=1: 1.00\n",
      "Accuracy with k=3: 1.00\n",
      "Accuracy with k=5: 1.00\n",
      "Accuracy with k=7: 1.00\n",
      "Accuracy with k=9: 1.00\n",
      "Accuracy with k=11: 1.00\n"
     ]
    }
   ],
   "source": [
    "#b Use all the four features\n",
    "\n",
    "import pandas as pd\n",
    "import numpy as np\n",
    "\n",
    "# Load the Iris dataset\n",
    "df = pd.read_csv(\"iris.csv\")\n",
    "\n",
    "# Split data by class\n",
    "def split_data_by_class(df, class_column):\n",
    "    test_indices = []\n",
    "    for class_name in df[class_column].unique():\n",
    "        indices = df[df[class_column] == class_name].index[:3]\n",
    "        test_indices.extend(indices)\n",
    "    test_set = df.loc[test_indices]\n",
    "    train_set = df.drop(test_indices)\n",
    "    return train_set, test_set\n",
    "\n",
    "train_set, test_set = split_data_by_class(df, \"Species\")\n",
    "\n",
    "# Euclidean distance calculation\n",
    "def euclidean_distance(sample1, sample2):\n",
    "    return np.sqrt(np.sum((sample1 - sample2)**2))\n",
    "\n",
    "# Classification using K-nearest neighbors\n",
    "def classify_sample(train_set, test_sample, k):\n",
    "    distances = []\n",
    "    for idx, row in train_set.iterrows():\n",
    "        distance = euclidean_distance(row[[\"SepalLengthCm\", \"SepalWidthCm\", \"PetalLengthCm\", \"PetalWidthCm\"]],\n",
    "                                      test_sample[[\"SepalLengthCm\", \"SepalWidthCm\", \"PetalLengthCm\", \"PetalWidthCm\"]])\n",
    "        distances.append((distance, row[\"Species\"]))\n",
    "\n",
    "    distances.sort(key=lambda x: x[0])\n",
    "    neighbors = distances[:k]\n",
    "\n",
    "    class_count = {}\n",
    "    for _, neighbor_class in neighbors:\n",
    "        class_count[neighbor_class] = class_count.get(neighbor_class, 0) + 1\n",
    "\n",
    "    predicted_class = max(class_count, key=class_count.get)\n",
    "    return predicted_class\n",
    "\n",
    "# Calculate accuracy for different K values\n",
    "def calculate_accuracy(train_set, test_set, k):\n",
    "    correct_predictions = 0\n",
    "    total_samples = len(test_set)\n",
    "\n",
    "    for idx, test_sample in test_set.iterrows():\n",
    "        predicted_class = classify_sample(train_set, test_sample, k)\n",
    "        if predicted_class == test_sample[\"Species\"]:\n",
    "            correct_predictions += 1\n",
    "\n",
    "    accuracy = correct_predictions / total_samples\n",
    "    return accuracy\n",
    "\n",
    "# Define different values of K to experiment with\n",
    "k_values = [1, 3, 5, 7, 9, 11]\n",
    "\n",
    "# Calculate accuracy for each K value\n",
    "for k in k_values:\n",
    "    accuracy = calculate_accuracy(train_set, test_set, k)\n",
    "    print(f\"Accuracy with k={k}: {accuracy:.2f}\")\n"
   ]
  },
  {
   "cell_type": "markdown",
   "id": "2dd3d435",
   "metadata": {},
   "source": [
    "The accuracy with all the four features is 100%.\n",
    "I can infer that increasing the number of dimensions for this analysis increased the accuracy significantly."
   ]
  }
 ],
 "metadata": {
  "kernelspec": {
   "display_name": "Python 3 (ipykernel)",
   "language": "python",
   "name": "python3"
  },
  "language_info": {
   "codemirror_mode": {
    "name": "ipython",
    "version": 3
   },
   "file_extension": ".py",
   "mimetype": "text/x-python",
   "name": "python",
   "nbconvert_exporter": "python",
   "pygments_lexer": "ipython3",
   "version": "3.11.1"
  }
 },
 "nbformat": 4,
 "nbformat_minor": 5
}
